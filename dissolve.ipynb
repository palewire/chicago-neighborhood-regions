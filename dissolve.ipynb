{
 "cells": [
  {
   "cell_type": "markdown",
   "id": "1b706b85-fa88-4a2a-8291-2d31730fb14c",
   "metadata": {},
   "source": [
    "# chicago-regions-map\n",
    "\n",
    "By [Ben Welsh](https://palewi.re/who-is-ben-welsh/)\n",
    "\n",
    "This notebook creates a regional map of Chicago by combining several government sources to generate a [GeoJSON map file](https://github.com/palewire/chicago-regions-map/blob/main/output/regions.geojson) that isn't otherwise available on the city's data portal.\n",
    "\n",
    "## Sources\n",
    "\n",
    "- [City of Chicago Regions](https://www.chicago.gov/dam/city/depts/cdph/policy_planning/PP_PlanningRegions101810.pdf)\n",
    "- [City of Chicago Community Areas](https://data.cityofchicago.org/Facilities-Geographic-Boundaries/Boundaries-Community-Areas-current-/cauq-8yn6)"
   ]
  },
  {
   "cell_type": "markdown",
   "id": "a70ef756-b4d0-4a3d-8ce6-b4ca8919feac",
   "metadata": {},
   "source": [
    "Import Python tools."
   ]
  },
  {
   "cell_type": "code",
   "execution_count": 1,
   "id": "84dd65aa-35ac-49a2-b1be-858d8332c10b",
   "metadata": {},
   "outputs": [],
   "source": [
    "import pandas as pd\n",
    "import geopandas as gpd"
   ]
  },
  {
   "cell_type": "markdown",
   "id": "7d96334d-f07c-4c77-9a39-cb08c42827da",
   "metadata": {},
   "source": [
    "Read in the crosswalk of community ids to regions."
   ]
  },
  {
   "cell_type": "code",
   "execution_count": 2,
   "id": "95eee111-b496-410f-83ba-5b105e44bc20",
   "metadata": {},
   "outputs": [],
   "source": [
    "regions_df = pd.read_csv(\"input/regions.csv\", dtype={\"id\": str})"
   ]
  },
  {
   "cell_type": "markdown",
   "id": "7904bda9-af5c-4a51-b9fb-9c80ba366348",
   "metadata": {},
   "source": [
    "Read in the GeoJSON of communities from the city data portal."
   ]
  },
  {
   "cell_type": "code",
   "execution_count": 3,
   "id": "907c287b-6248-4747-96a0-2315e7d1198d",
   "metadata": {},
   "outputs": [],
   "source": [
    "communities_gdf = gpd.read_file(\"https://data.cityofchicago.org/api/geospatial/cauq-8yn6?method=export&format=GeoJSON\")"
   ]
  },
  {
   "cell_type": "markdown",
   "id": "b9ba766d-6365-4782-a944-7fa21adc4ce1",
   "metadata": {},
   "source": [
    "Trim down the data portal file."
   ]
  },
  {
   "cell_type": "code",
   "execution_count": 4,
   "id": "17b15fad-13c4-43a6-84a4-953d79aedae8",
   "metadata": {},
   "outputs": [],
   "source": [
    "trimmed_gdf = communities_gdf[[\n",
    "    'area_numbe',\n",
    "    'community',\n",
    "    'geometry'\n",
    "]].rename(columns={\n",
    "    \"area_numbe\": \"id\"\n",
    "})"
   ]
  },
  {
   "cell_type": "markdown",
   "id": "9c302f81-4ada-482f-bf30-732423ec34df",
   "metadata": {},
   "source": [
    "Merge the two dataframes."
   ]
  },
  {
   "cell_type": "code",
   "execution_count": 5,
   "id": "ac6c5fee-3186-424d-86e5-cabb106b9255",
   "metadata": {},
   "outputs": [],
   "source": [
    "merged_gdf = trimmed_gdf.merge(\n",
    "    regions_df,\n",
    "    on=\"id\",\n",
    "    how=\"inner\"\n",
    ")"
   ]
  },
  {
   "cell_type": "markdown",
   "id": "0710108b-87bb-4269-a7a7-9e85a3d147f4",
   "metadata": {},
   "source": [
    "Make sure nothing was dropped."
   ]
  },
  {
   "cell_type": "code",
   "execution_count": 6,
   "id": "7a520844-ef52-49c5-880d-1df18504f37e",
   "metadata": {},
   "outputs": [],
   "source": [
    "assert len(merged_gdf) == len(regions_df) == len(trimmed_gdf)"
   ]
  },
  {
   "cell_type": "markdown",
   "id": "58084dc9-9c08-45e2-8645-c28609eb672b",
   "metadata": {},
   "source": [
    "Dissolve by region."
   ]
  },
  {
   "cell_type": "code",
   "execution_count": 7,
   "id": "ef70588f-b0e4-4fac-a3c1-6ca41469ce13",
   "metadata": {},
   "outputs": [],
   "source": [
    "regions_gdf = merged_gdf.dissolve(by='region').reset_index().drop([\"community\", \"id\"], axis=1)"
   ]
  },
  {
   "cell_type": "markdown",
   "id": "8c8e07ee-d4b5-4f2b-87ce-a80c4df9c512",
   "metadata": {},
   "source": [
    "Map the results."
   ]
  },
  {
   "cell_type": "code",
   "execution_count": 8,
   "id": "2e1245c5-0cf3-4b05-986c-99dd3533bccb",
   "metadata": {},
   "outputs": [
    {
     "data": {
      "text/plain": [
       "<AxesSubplot:>"
      ]
     },
     "execution_count": 8,
     "metadata": {},
     "output_type": "execute_result"
    },
    {
     "data": {
      "image/png": "[encoded data removed]",
      "text/plain": [
       "<Figure size 432x288 with 1 Axes>"
      ]
     },
     "metadata": {
      "needs_background": "light"
     },
     "output_type": "display_data"
    }
   ],
   "source": [
    "regions_gdf.plot(column='region')"
   ]
  },
  {
   "cell_type": "markdown",
   "id": "f9c3a9ee-21ac-401e-bdfb-1ca105e0c2dc",
   "metadata": {},
   "source": [
    "Save to a GeoJSON file."
   ]
  },
  {
   "cell_type": "code",
   "execution_count": 9,
   "id": "b522a40a-b113-40d7-8a65-80f9753f3f82",
   "metadata": {},
   "outputs": [],
   "source": [
    "regions_gdf.to_file(\"output/regions.geojson\", driver=\"GeoJSON\")"
   ]
  }
 ],
 "metadata": {
  "kernelspec": {
   "display_name": "Python 3 (ipykernel)",
   "language": "python",
   "name": "python3"
  },
  "language_info": {
   "codemirror_mode": {
    "name": "ipython",
    "version": 3
   },
   "file_extension": ".py",
   "mimetype": "text/x-python",
   "name": "python",
   "nbconvert_exporter": "python",
   "pygments_lexer": "ipython3",
   "version": "3.9.7"
  }
 },
 "nbformat": 4,
 "nbformat_minor": 5
}
